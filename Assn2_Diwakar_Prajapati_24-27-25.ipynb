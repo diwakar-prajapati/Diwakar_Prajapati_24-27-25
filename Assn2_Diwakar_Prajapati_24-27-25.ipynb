{
 "cells": [
  {
   "cell_type": "code",
   "execution_count": 1,
   "id": "7c2d6e8c",
   "metadata": {},
   "outputs": [],
   "source": [
    "#Name    :- Diwakar Prajapati\n",
    "#Reg No. :- 24-27-25\n",
    "# Programme: M.Tech(Data science)\n",
    "# Assignment Number: 2"
   ]
  },
  {
   "cell_type": "markdown",
   "id": "4f04fdcf",
   "metadata": {},
   "source": [
    "## Q1"
   ]
  },
  {
   "cell_type": "raw",
   "id": "3e4183e2",
   "metadata": {},
   "source": [
    "a) Create a variable named var1 that stores an array of numbers from 0 to 30,\n",
    "inclusive. Print var1 and its shape. Hint : arange"
   ]
  },
  {
   "cell_type": "code",
   "execution_count": 2,
   "id": "dc425a19",
   "metadata": {},
   "outputs": [
    {
     "name": "stdout",
     "output_type": "stream",
     "text": [
      "[ 1  2  3  4  5  6  7  8  9 10 11 12 13 14 15 16 17 18 19 20 21 22 23 24\n",
      " 25 26 27 28 29 30]\n",
      "\n",
      "shape= (30,)\n",
      "\n",
      "dimension = 1\n"
     ]
    }
   ],
   "source": [
    "import numpy as np \n",
    "var1 = np.arange(1,31)\n",
    "print(var1)\n",
    "print(\"\\nshape=\",np.shape(var1))\n",
    "print(\"\\ndimension =\",np.ndim(var1))"
   ]
  },
  {
   "cell_type": "raw",
   "id": "1e2d500f",
   "metadata": {},
   "source": [
    "b) Change var1 to a validly-shaped two-dimensional matrix and store it in a\n",
    "new variable called var2. Print var2 and its shape. Hint: Use the reshape function"
   ]
  },
  {
   "cell_type": "code",
   "execution_count": 3,
   "id": "02128589",
   "metadata": {},
   "outputs": [
    {
     "name": "stdout",
     "output_type": "stream",
     "text": [
      "[[ 1  2  3  4  5  6]\n",
      " [ 7  8  9 10 11 12]\n",
      " [13 14 15 16 17 18]\n",
      " [19 20 21 22 23 24]\n",
      " [25 26 27 28 29 30]]\n",
      "\n",
      "shape= (5, 6)\n",
      "\n",
      "dimension = 2\n"
     ]
    }
   ],
   "source": [
    "var2 = np.reshape(var1,(5,6))\n",
    "print(var2)\n",
    "print(\"\\nshape=\",np.shape(var2))\n",
    "print(\"\\ndimension =\",np.ndim(var2))"
   ]
  },
  {
   "cell_type": "raw",
   "id": "2b417120",
   "metadata": {},
   "source": [
    "c) Create a third variable, var3 that reshapes it into a valid three-dimensional shape.\n",
    "Print var3 and its shape."
   ]
  },
  {
   "cell_type": "code",
   "execution_count": 4,
   "id": "9e9594b0",
   "metadata": {},
   "outputs": [
    {
     "name": "stdout",
     "output_type": "stream",
     "text": [
      "[[[ 1  2  3  4  5]\n",
      "  [ 6  7  8  9 10]\n",
      "  [11 12 13 14 15]]\n",
      "\n",
      " [[16 17 18 19 20]\n",
      "  [21 22 23 24 25]\n",
      "  [26 27 28 29 30]]]\n",
      "\n",
      "shape= (2, 3, 5)\n",
      "\n",
      "dimension = 3\n"
     ]
    }
   ],
   "source": [
    "var3 = np.reshape(var1,(2,3,5))\n",
    "print(var3)\n",
    "print(\"\\nshape=\",np.shape(var3))\n",
    "print(\"\\ndimension =\",np.ndim(var3))"
   ]
  },
  {
   "cell_type": "raw",
   "id": "4de03782",
   "metadata": {},
   "source": [
    "d) Use two-dimensional array indexing to set the first value in the second row of var2\n",
    "to -1. Now look at var1 and var3. Did they change? Explain what’s\n",
    "going on. (Hint: does reshape return a view or a copy?)"
   ]
  },
  {
   "cell_type": "code",
   "execution_count": 5,
   "id": "648198ef",
   "metadata": {},
   "outputs": [
    {
     "name": "stdout",
     "output_type": "stream",
     "text": [
      "[[ 1  2  3  4  5  6]\n",
      " [-1  8  9 10 11 12]\n",
      " [13 14 15 16 17 18]\n",
      " [19 20 21 22 23 24]\n",
      " [25 26 27 28 29 30]]\n",
      "\n",
      " var1 =  [ 1  2  3  4  5  6 -1  8  9 10 11 12 13 14 15 16 17 18 19 20 21 22 23 24\n",
      " 25 26 27 28 29 30]\n",
      "\n",
      " var3 =  [[[ 1  2  3  4  5]\n",
      "  [ 6 -1  8  9 10]\n",
      "  [11 12 13 14 15]]\n",
      "\n",
      " [[16 17 18 19 20]\n",
      "  [21 22 23 24 25]\n",
      "  [26 27 28 29 30]]]\n"
     ]
    }
   ],
   "source": [
    "var2[1, 0] = -1\n",
    "print(var2)\n",
    "#Looking at var1\n",
    "print(\"\\n var1 = \",var1)\n",
    "#Looking at var3\n",
    "print(\"\\n var3 = \", var3)"
   ]
  },
  {
   "cell_type": "markdown",
   "id": "7cc08b80",
   "metadata": {},
   "source": [
    "Clearly, when we set the first value in the second row of var2 to -1, var1 and var3 value is updated, since it modified the original array var1 then reshape() returns a view."
   ]
  },
  {
   "cell_type": "raw",
   "id": "76d9828f",
   "metadata": {},
   "source": [
    "e) Another thing that comes up a lot with array shapes is thinking about how to\n",
    "aggregate over specific dimensions. Figure out how the NumPy sum function\n",
    "works (and the axis argument in particular) and do the following:\n",
    "(i) Sum var3 over its second dimension and print the result.\n",
    "(ii) Sum var3 over its third dimension and print the result.\n",
    "(iii) Sum var3 over both its first and third dimensions and print the result."
   ]
  },
  {
   "cell_type": "markdown",
   "id": "b6b8e98a",
   "metadata": {},
   "source": [
    "(i) Sum var3 over its second dimension and print the result."
   ]
  },
  {
   "cell_type": "code",
   "execution_count": 6,
   "id": "76ec27c3",
   "metadata": {},
   "outputs": [
    {
     "name": "stdout",
     "output_type": "stream",
     "text": [
      "[[18 13 24 27 30]\n",
      " [63 66 69 72 75]]\n"
     ]
    }
   ],
   "source": [
    "result_1 = np.sum(var3, axis=1)\n",
    "print(result_1)"
   ]
  },
  {
   "cell_type": "markdown",
   "id": "71143e29",
   "metadata": {},
   "source": [
    "(ii) Sum var3 over its third dimension and print the result. \n"
   ]
  },
  {
   "cell_type": "code",
   "execution_count": 7,
   "id": "ea784270",
   "metadata": {},
   "outputs": [
    {
     "name": "stdout",
     "output_type": "stream",
     "text": [
      "[[ 15  32  65]\n",
      " [ 90 115 140]]\n"
     ]
    }
   ],
   "source": [
    "result_2 = np.sum(var3, axis=2)\n",
    "print(result_2)"
   ]
  },
  {
   "cell_type": "markdown",
   "id": "51d79da7",
   "metadata": {},
   "source": [
    "(iii) Sum var3 over both its first and third dimensions and print the result."
   ]
  },
  {
   "cell_type": "code",
   "execution_count": 8,
   "id": "f015b50b",
   "metadata": {},
   "outputs": [
    {
     "name": "stdout",
     "output_type": "stream",
     "text": [
      "[105 147 205]\n"
     ]
    }
   ],
   "source": [
    "result_3 =np.sum(var3, axis=(0, 2))\n",
    "print(result_3)"
   ]
  },
  {
   "cell_type": "raw",
   "id": "3c944124",
   "metadata": {},
   "source": [
    "f) Write code to do the following:\n",
    "(i) Slice out the second row of var2 and print it.\n",
    "(ii) Slice out the last column of var2 using the -1 notation and print it.\n",
    "(iii) Slice out the top right 2 × 2 submatrix of var2 and print it."
   ]
  },
  {
   "cell_type": "markdown",
   "id": "55534b5f",
   "metadata": {},
   "source": [
    "(i) Slice out the second row of var2 and print it\n"
   ]
  },
  {
   "cell_type": "code",
   "execution_count": 9,
   "id": "639bf68e",
   "metadata": {},
   "outputs": [
    {
     "name": "stdout",
     "output_type": "stream",
     "text": [
      "[-1  8  9 10 11 12]\n"
     ]
    }
   ],
   "source": [
    "second_row = var2[1]\n",
    "print(second_row)"
   ]
  },
  {
   "cell_type": "markdown",
   "id": "04236ec2",
   "metadata": {},
   "source": [
    "(ii) Slice out the last column of var2 using the -1 notation and print it. "
   ]
  },
  {
   "cell_type": "code",
   "execution_count": 10,
   "id": "4bdf78ac",
   "metadata": {},
   "outputs": [
    {
     "name": "stdout",
     "output_type": "stream",
     "text": [
      "[ 6 12 18 24 30]\n"
     ]
    }
   ],
   "source": [
    "last_column = var2[:, -1]\n",
    "print(last_column)"
   ]
  },
  {
   "cell_type": "markdown",
   "id": "ec3b5949",
   "metadata": {},
   "source": [
    "(iii) Slice out the top right 2 × 2 submatrix of var2 and print it."
   ]
  },
  {
   "cell_type": "code",
   "execution_count": 11,
   "id": "64809264",
   "metadata": {},
   "outputs": [
    {
     "name": "stdout",
     "output_type": "stream",
     "text": [
      "[[ 5  6]\n",
      " [11 12]]\n"
     ]
    }
   ],
   "source": [
    "top_right_submatrix = var2[0:2, -2:]\n",
    "print(top_right_submatrix)"
   ]
  },
  {
   "cell_type": "markdown",
   "id": "4b6d2991",
   "metadata": {},
   "source": [
    "## Q2\n"
   ]
  },
  {
   "cell_type": "raw",
   "id": "eec57de0",
   "metadata": {},
   "source": [
    "a) The most basic kind of broadcast is with a scalar, in which you can perform a\n",
    "binary operation (e.g., add, multiply, ...) on an array and a scalar, the effect is to\n",
    "perform that operation with the scalar for every element of the array. To try this\n",
    "out, create a vector 1, 2, . . . , 10 by adding 1 to the result of the arange function."
   ]
  },
  {
   "cell_type": "code",
   "execution_count": 12,
   "id": "d6b8f9f8",
   "metadata": {},
   "outputs": [
    {
     "name": "stdout",
     "output_type": "stream",
     "text": [
      "[ 1  2  3  4  5  6  7  8  9 10]\n"
     ]
    }
   ],
   "source": [
    "\n",
    "vector = np.arange(10)  \n",
    "\n",
    "result = vector + 1\n",
    "print(result)\n"
   ]
  },
  {
   "cell_type": "raw",
   "id": "a952c19c",
   "metadata": {},
   "source": [
    "b) Now, create a 10 × 10 matrix A in which Ai j = i + j. You’ll be able to do this\n",
    "using the vector you just created, and adding it to a reshaped version of itself."
   ]
  },
  {
   "cell_type": "code",
   "execution_count": 13,
   "id": "5fff360a",
   "metadata": {},
   "outputs": [
    {
     "name": "stdout",
     "output_type": "stream",
     "text": [
      "[[ 2  3  4  5  6  7  8  9 10 11]\n",
      " [ 3  4  5  6  7  8  9 10 11 12]\n",
      " [ 4  5  6  7  8  9 10 11 12 13]\n",
      " [ 5  6  7  8  9 10 11 12 13 14]\n",
      " [ 6  7  8  9 10 11 12 13 14 15]\n",
      " [ 7  8  9 10 11 12 13 14 15 16]\n",
      " [ 8  9 10 11 12 13 14 15 16 17]\n",
      " [ 9 10 11 12 13 14 15 16 17 18]\n",
      " [10 11 12 13 14 15 16 17 18 19]\n",
      " [11 12 13 14 15 16 17 18 19 20]]\n"
     ]
    }
   ],
   "source": [
    "vector = np.arange(1,11)\n",
    "column_vector = vector.reshape(10,1)\n",
    "A = column_vector + vector\n",
    "print(A)"
   ]
  },
  {
   "cell_type": "raw",
   "id": "8195e4c8",
   "metadata": {},
   "source": [
    "c) A very common use of broadcasting is to standardize data, i.e., to make it have\n",
    "zero mean and unit variance. First, create a fake “data set” with 50 examples,\n",
    "each with five dimensions.\n",
    "import numpy.random as npr\n",
    "data = np.exp(npr.randn ( 50 , 5 ) )"
   ]
  },
  {
   "cell_type": "code",
   "execution_count": 14,
   "id": "60f2441d",
   "metadata": {},
   "outputs": [
    {
     "name": "stdout",
     "output_type": "stream",
     "text": [
      "Original Data:\n",
      " [[ 4.75829768  0.12633969  0.31771398  2.40450519  1.03403852]\n",
      " [ 0.79988681  4.24811584  3.05917112  0.30761587  1.14406681]\n",
      " [ 2.12057133  2.15490769  3.56259001  1.61196604  0.4061373 ]\n",
      " [ 0.49709437  0.36563017  0.19581922  0.08793309  0.42113588]\n",
      " [ 0.91577391  1.34512061  7.54840961  2.28772273  0.59941279]\n",
      " [ 1.88888243  0.51152624  2.64802745  0.91654733  1.26601301]\n",
      " [ 3.2708978   0.93905583  0.9354699   7.63347721  1.54583908]\n",
      " [ 2.01508099  1.50634477  1.32366351  4.36325436  4.86861822]\n",
      " [ 0.40532185  1.45655179  1.31927483  0.80268923  0.37699447]\n",
      " [ 0.37107542  0.35602219  1.44188514  0.22059782  1.07051639]\n",
      " [ 0.41126464  2.37297859  2.24393396  3.10837062  0.45092569]\n",
      " [ 1.24603573  0.48295938  2.6296266   1.00171651  0.67585893]\n",
      " [ 1.12246587  1.51182079  4.85791468  1.75989518  0.04319306]\n",
      " [ 0.10792199  2.89437596  0.17848554  1.54136018  1.42610452]\n",
      " [ 1.49017318  0.32578839  0.58168762  0.22410917  1.05274635]\n",
      " [ 0.78975057  0.41511973  0.39500896  0.93658196  1.07490664]\n",
      " [ 0.61775922  1.74669413  0.35719405  0.59049962  0.15240806]\n",
      " [ 0.35538611  0.93136943  2.61365371  0.07513215  0.70533819]\n",
      " [ 0.15608689  0.3718462   0.49218228  2.33301524  0.96678187]\n",
      " [ 0.49224692  1.66259093  2.00978337  2.33302102  4.28584875]\n",
      " [ 3.43028739  1.46046604  0.30470929  4.12954416  0.32018006]\n",
      " [ 2.3628814   1.62042889  1.8077686   1.11278503  0.66837069]\n",
      " [ 2.1299024   3.5081124   0.85458086  0.73359231  7.41735592]\n",
      " [ 0.92309702  0.60233457  1.0388065   0.34238321  1.24893567]\n",
      " [ 0.38983444  2.64307442  1.21188306  1.38050179 13.21892455]\n",
      " [ 1.03002568  0.33607605 33.76351075  0.50293736  0.55917968]\n",
      " [ 1.11914335  0.62042162  4.57226702  3.21087113  1.34606296]\n",
      " [ 1.04522034  2.12464431  0.64463721  1.21381315  0.30371943]\n",
      " [ 0.54610526  0.29111887  0.20361636  2.41332798  1.37071366]\n",
      " [ 3.96908138  1.27978726  2.63354815  0.98788006  0.64749049]\n",
      " [ 1.41178861  0.46313741  0.94103534  0.49829516  3.93107047]\n",
      " [ 2.16365231  0.34553028  2.66164896  2.23198546  0.29244572]\n",
      " [ 0.30807334  0.38977975  1.53285951  0.77638799  0.21390471]\n",
      " [ 1.04331421  0.74578333  1.29326223  6.86773894  1.3786799 ]\n",
      " [ 0.34788669  2.63147485  1.04399438  0.7583679   0.68252569]\n",
      " [ 0.83685593  1.45689225  0.67200242  0.23897405  2.04267101]\n",
      " [ 0.45222754  0.98090218  0.25644144  2.13087367  1.65942952]\n",
      " [ 1.66693003  0.35002314  0.40037179  5.69908531  0.92335716]\n",
      " [ 3.3173312   3.24700432  0.22225936  6.0266115   0.60235084]\n",
      " [ 0.78494098  0.88775083  0.44566317  2.49521242  0.67368396]\n",
      " [ 1.94890109  0.890931    5.79823157  0.56157436  0.28583034]\n",
      " [ 1.34462662  1.03889358  0.33455141  0.57910962  0.72625781]\n",
      " [ 0.30802423  0.67959187  0.49400275  0.45007665  1.19531708]\n",
      " [ 0.64117252  1.11313918  0.3008487   1.09713014  1.4333249 ]\n",
      " [ 0.16078478  0.14626922  0.94494806  0.41481692  4.02632696]\n",
      " [ 0.5372057   3.36336447  1.09108449  1.12655548  0.44127646]\n",
      " [ 1.65207389  0.90633151  2.05331726  1.04273883  0.32605188]\n",
      " [ 3.23057576  0.11713859  2.5431281   1.11847023  0.72721509]\n",
      " [ 0.75732673  0.89697217  0.75449638  1.12738459  0.39251236]\n",
      " [ 0.59645748  0.87280985  2.25592569  2.9665314   0.90344694]]\n",
      "\n",
      "Standardized Data:\n",
      " [[ 3.23533310e+00 -1.12335706e+00 -4.03204705e-01  3.60711364e-01\n",
      "  -2.01863089e-01]\n",
      " [-4.52677486e-01  3.05416328e+00  1.73101142e-01 -8.41799297e-01\n",
      "  -1.50976250e-01]\n",
      " [ 7.77790658e-01  9.32645926e-01  2.78929260e-01 -9.37889163e-02\n",
      "  -4.92260297e-01]\n",
      " [-7.34786085e-01 -8.80830346e-01 -4.28829274e-01 -9.67781572e-01\n",
      "  -4.85323624e-01]\n",
      " [-3.44706671e-01  1.11907031e-01  1.11682350e+00  2.93739702e-01\n",
      "  -4.02872568e-01]\n",
      " [ 5.61928502e-01 -7.32961134e-01  8.66710119e-02 -4.92593183e-01\n",
      "  -9.45775091e-02]\n",
      " [ 1.84953798e+00 -2.99649496e-01 -2.73340792e-01  3.35938875e+00\n",
      "   3.48388815e-02]\n",
      " [ 6.79506404e-01  2.75311639e-01 -1.91735194e-01  1.48400229e+00\n",
      "   1.57158663e+00]\n",
      " [-8.20289596e-01  2.24845240e-01 -1.92657778e-01 -5.57887798e-01\n",
      "  -5.05738523e-01]\n",
      " [-8.52196637e-01 -8.90568269e-01 -1.66882784e-01 -8.91701849e-01\n",
      "  -1.84992486e-01]\n",
      " [-8.14752756e-01  1.15366609e+00  1.72295996e-03  7.64359600e-01\n",
      "  -4.71546171e-01]\n",
      " [-3.70051434e-02 -7.61914347e-01  8.28028062e-02 -4.43750907e-01\n",
      "  -3.67517094e-01]\n",
      " [-1.52133909e-01  2.80861717e-01  5.51230866e-01 -8.95546118e-03\n",
      "  -6.60117900e-01]\n",
      " [-1.09737398e+00  1.68211499e+00 -4.32473140e-01 -1.34279512e-01\n",
      "  -2.05369974e-02]\n",
      " [ 1.90455208e-01 -9.21210957e-01 -3.47712480e-01 -8.89688186e-01\n",
      "  -1.93210929e-01]\n",
      " [-4.62121319e-01 -8.30671477e-01 -3.86955846e-01 -4.81103852e-01\n",
      "  -1.82962045e-01]\n",
      " [-6.22363889e-01  5.18911556e-01 -3.94905251e-01 -6.79572938e-01\n",
      "  -6.09607198e-01]\n",
      " [-8.66814206e-01 -3.07439853e-01  7.94450049e-02 -9.75122569e-01\n",
      "  -3.53883270e-01]\n",
      " [-1.05249923e+00 -8.74530247e-01 -3.66528186e-01  3.19713762e-01\n",
      "  -2.32968526e-01]\n",
      " [-7.39302405e-01  4.33670919e-01 -4.74998971e-02  3.19717075e-01\n",
      "   1.30206234e+00]\n",
      " [ 1.99803961e+00  2.28812423e-01 -4.05938534e-01  1.34997566e+00\n",
      "  -5.32014548e-01]\n",
      " [ 1.00354846e+00  3.90938666e-01 -8.99672004e-02 -3.80056041e-01\n",
      "  -3.70980322e-01]\n",
      " [ 7.86484323e-01  2.30415180e+00 -2.90345189e-01 -5.97513055e-01\n",
      "   2.75034897e+00]\n",
      " [-3.37883809e-01 -6.40924681e-01 -2.51617495e-01 -8.21861147e-01\n",
      "  -1.02475589e-01]\n",
      " [-8.34719054e-01  1.42741478e+00 -2.15233548e-01 -2.26527551e-01\n",
      "   5.43350881e+00]\n",
      " [-2.38259474e-01 -9.10784173e-01  6.62773075e+00 -7.29787578e-01\n",
      "  -4.21479927e-01]\n",
      " [-1.55229459e-01 -6.22593022e-01  4.91182357e-01  8.23140938e-01\n",
      "  -5.75553125e-02]\n",
      " [-2.24102769e-01  9.01973252e-01 -3.34479292e-01 -3.22119084e-01\n",
      "  -5.39627400e-01]\n",
      " [-6.89123140e-01 -9.56349365e-01 -4.27190170e-01  3.65771000e-01\n",
      "  -4.61546443e-02]\n",
      " [ 2.50002842e+00  4.56900867e-02  8.36271904e-02 -4.51685743e-01\n",
      "  -3.80637176e-01]\n",
      " [ 1.17425111e-01 -7.82004387e-01 -2.72170831e-01 -7.32449759e-01\n",
      "   1.13798140e+00]\n",
      " [ 8.17928762e-01 -9.01202075e-01  8.95345082e-02  2.61775853e-01\n",
      "  -5.44841365e-01]\n",
      " [-9.10895026e-01 -8.56354162e-01 -1.47758262e-01 -5.72970863e-01\n",
      "  -5.81165693e-01]\n",
      " [-2.25878693e-01 -4.95535873e-01 -1.98126116e-01  2.92025807e+00\n",
      "  -4.24703467e-02]\n",
      " [-8.73801339e-01  1.41565833e+00 -2.50526905e-01 -5.83304910e-01\n",
      "  -3.64433792e-01]\n",
      " [-4.18233743e-01  2.25190305e-01 -3.28726611e-01 -8.81163570e-01\n",
      "   2.64618023e-01]\n",
      " [-7.76588048e-01 -2.57237206e-01 -4.16085344e-01  2.03790911e-01\n",
      "   8.73731734e-02]\n",
      " [ 3.55137743e-01 -8.96648458e-01 -3.85828478e-01  2.25006607e+00\n",
      "  -2.53051963e-01]\n",
      " [ 1.89279950e+00  2.03951241e+00 -4.23271061e-01  2.43789369e+00\n",
      "  -4.01513751e-01]\n",
      " [-4.66602366e-01 -3.51648369e-01 -3.76307377e-01  4.12729562e-01\n",
      "  -3.68522993e-01]\n",
      " [ 6.17847271e-01 -3.48425187e-01  7.48903159e-01 -6.96160809e-01\n",
      "  -5.47900903e-01]\n",
      " [ 5.48509751e-02 -1.98461512e-01 -3.99665158e-01 -6.86104798e-01\n",
      "  -3.44208184e-01]\n",
      " [-9.10940789e-01 -5.62622527e-01 -3.66145490e-01 -7.60101801e-01\n",
      "  -1.27273579e-01]\n",
      " [-6.00549955e-01 -1.23211787e-01 -4.06750103e-01 -3.89033711e-01\n",
      "  -1.71976534e-02]\n",
      " [-1.04812226e+00 -1.10315800e+00 -2.71348305e-01 -7.80322328e-01\n",
      "   1.18203645e+00]\n",
      " [-6.97414776e-01  2.15744625e+00 -2.40627679e-01 -3.72159055e-01\n",
      "  -4.76008830e-01]\n",
      " [ 3.41296426e-01 -3.32816393e-01 -3.83482555e-02 -4.20225693e-01\n",
      "  -5.29298896e-01]\n",
      " [ 1.81197035e+00 -1.13268260e+00  6.46191944e-02 -3.76795731e-01\n",
      "  -3.43765449e-01]\n",
      " [-4.92330275e-01 -3.42302308e-01 -3.11384830e-01 -3.71683582e-01\n",
      "  -4.98561678e-01]\n",
      " [-6.42210500e-01 -3.66791407e-01  4.24384769e-03  6.83018553e-01\n",
      "  -2.62260214e-01]]\n"
     ]
    }
   ],
   "source": [
    "import numpy.random as npr\n",
    "\n",
    "# Generate fake data set with 50 examples and 5 dimensions\n",
    "data = np.exp(npr.randn(50, 5))\n",
    "\n",
    "# Calculate the mean and standard deviation along each column (feature)\n",
    "mean = np.mean(data, axis=0)\n",
    "std_dev = np.std(data, axis=0)\n",
    "\n",
    "# Standardize the data (zero mean, unit variance)\n",
    "standardized_data = (data - mean) / std_dev\n",
    "\n",
    "# Print the original and standardized data\n",
    "print(\"Original Data:\\n\", data)\n",
    "print(\"\\nStandardized Data:\\n\", standardized_data)"
   ]
  },
  {
   "cell_type": "raw",
   "id": "a1be7c7c",
   "metadata": {},
   "source": [
    "d) You don’t worry too much about what this code is doing at this stage of the\n",
    "course, but for completeness: it imports the NumPy random number generation\n",
    "library, then generates a 50 × 5 matrix of standard normal random variates and exponentiates them. The effect of this is to have a pretend\n",
    "data set of 50 independent and identically-distributed vectors from a log-normal\n",
    "distribution."
   ]
  },
  {
   "cell_type": "code",
   "execution_count": 15,
   "id": "7a23a069",
   "metadata": {},
   "outputs": [
    {
     "name": "stdout",
     "output_type": "stream",
     "text": [
      "[[ 1.24196365  4.40032228  0.27149725  0.18414546  0.27785858]\n",
      " [ 0.91628926  3.18813459  3.04047553  5.69092236  2.31827061]\n",
      " [ 0.49001587  0.06068887  0.48728681  0.47545349  0.87775553]\n",
      " [ 1.25324726  4.2780453   0.05945124  2.47598637  1.52950414]\n",
      " [ 2.96243352  1.32096318  0.6214317   3.88398593  0.82166874]\n",
      " [ 5.12024386  0.95129184  1.90062121  0.58823827  0.60692815]\n",
      " [ 1.40705067  0.42474163  1.35382427 28.00747058  0.25043758]\n",
      " [ 3.4431919   1.05529918  3.05800592  1.26040405 18.70325835]\n",
      " [ 1.77376107  1.10206432  3.22959853  1.64200603  0.76734323]\n",
      " [ 1.93181436  2.85189613  0.79246499  0.26825497  0.96253971]\n",
      " [ 0.18439602  0.32960374  0.59768562  0.90628506  2.28646493]\n",
      " [ 1.74659264  1.69400141  1.766259    0.51082097  6.16211628]\n",
      " [ 1.54664315  0.61827845  0.20974617  1.7251494   2.69868815]\n",
      " [ 0.66230972  0.28524476  0.30075061  1.05430955  1.14007837]\n",
      " [ 1.15308339  0.94826662  2.88234922  0.53053551  1.27950684]\n",
      " [ 0.3913177   1.4249632   0.65053195  0.75940449  0.69964294]\n",
      " [ 3.61570175  0.29495555  1.05945764  2.45608397  1.5374852 ]\n",
      " [ 0.92277168  0.46858742  0.57068044  1.55635298  0.41907948]\n",
      " [ 2.54622872  2.1425059   4.3625978   0.17574613  0.21779085]\n",
      " [ 3.81993243  0.29188414  1.15430208  0.92268214  0.21067049]\n",
      " [ 2.7315566   0.43600094  2.28709025  0.18669873  0.93370633]\n",
      " [ 1.69617858  1.25432222  2.20890492  2.03128075  0.69255013]\n",
      " [ 1.65040577  1.02514149  2.85414033  7.31702611  0.93603941]\n",
      " [ 0.95423317  0.28754694  2.87922811  1.23405268  0.74558188]\n",
      " [ 0.18441504 14.6506477   0.24238603  0.58279998  0.82257935]\n",
      " [ 3.18111419  0.61586111  0.65177828  0.14449253  4.13952036]\n",
      " [ 1.36077425  7.16629342  4.32237894  1.26153349  1.50654144]\n",
      " [ 1.46718354  9.95480761  0.33580971  0.18980766  0.16243625]\n",
      " [ 0.59770849  0.85545475  2.88518999  1.47417759  3.88518476]\n",
      " [ 0.80396567  0.82444197  0.69556138  0.17306979  0.29998854]\n",
      " [ 5.1947944   1.85315705  1.48727592  1.359222    1.51675711]\n",
      " [ 2.17724236  1.10807183  0.2581257   0.55880881  0.60102265]\n",
      " [ 0.36368273  0.6118243   2.75446242  0.26133891  0.96009942]\n",
      " [ 2.59362699  0.9088317   6.34197634  1.48126264  2.93728588]\n",
      " [ 2.97804056  0.94713648  0.35831125  3.85464844  1.85040076]\n",
      " [ 0.97143226  0.04502558  1.16433023  0.4141714   0.48292382]\n",
      " [ 0.38549829  3.52337105  0.34398837  0.99949904  1.1540075 ]\n",
      " [ 0.86292845  1.45028565  6.38444366  1.10925412  2.45467648]\n",
      " [ 0.13072827  1.9082458   1.2329891   9.05039296  0.05727401]\n",
      " [ 0.85495837  0.70062453  0.78564835  2.14913648  1.61157818]\n",
      " [ 0.83475308  0.65680117  1.75052163  0.5364599   0.49278715]\n",
      " [ 2.97887272  0.56688018  0.22310192  1.15851121  0.73888261]\n",
      " [ 7.94761604  0.71842649  2.35719361  0.26595925  2.61846413]\n",
      " [ 0.87563258  0.90731487  0.88168732  2.38687622  0.35878481]\n",
      " [ 4.26587197  4.51721786  0.62716421  0.85487435  1.07212747]\n",
      " [ 1.78480677  0.29424169  0.39064813  0.52978053  1.07981979]\n",
      " [ 0.51335508  4.84487369  2.06542355  2.80927031  0.50506401]\n",
      " [ 1.89641359  3.40152604  4.37210541  0.42774262  2.29029629]\n",
      " [ 0.34324916  1.03977837  0.75209259  0.99729442  5.98643934]\n",
      " [ 1.66109182  0.19567098  0.7207738   1.02223493  1.30974522]]\n"
     ]
    }
   ],
   "source": [
    "data = np.exp(npr.randn(50, 5))\n",
    "print(data)"
   ]
  },
  {
   "cell_type": "raw",
   "id": "07eacc71",
   "metadata": {},
   "source": [
    "e) Now, compute the mean and standard deviation of each column. This should\n",
    "result in two vectors of length 5. You’ll need to think a little bit about how to use\n",
    "the axis argument to mean and std. Store these vectors into variables and print\n",
    "both of them."
   ]
  },
  {
   "cell_type": "code",
   "execution_count": 16,
   "id": "9a42c3c3",
   "metadata": {},
   "outputs": [
    {
     "name": "stdout",
     "output_type": "stream",
     "text": [
      "Mean of each column: [1.71481485 2.32196614 1.21748307 1.39238232 1.96627608]\n",
      "Standard deviation of each column: [1.67324294 2.79425437 1.25243293 1.15081928 1.96008502]\n"
     ]
    }
   ],
   "source": [
    "data = np.exp(npr.randn(50, 5))\n",
    "mean_vector = np.mean(data, axis=0)\n",
    "std_vector = np.std(data, axis=0)\n",
    "print(\"Mean of each column:\", mean_vector)\n",
    "print(\"Standard deviation of each column:\", std_vector)"
   ]
  },
  {
   "cell_type": "raw",
   "id": "ae70b116",
   "metadata": {},
   "source": [
    "f) Now standardize the data matrix by 1) subtracting the mean off of each column,\n",
    "and 2) dividing each column by its standard deviation. Do this via broadcasting,\n",
    "and store the result in a matrix called normalized. To verify that you successfully\n",
    "did it, compute the mean and standard deviation of\n",
    "the columns of normalized and print them out."
   ]
  },
  {
   "cell_type": "code",
   "execution_count": 17,
   "id": "7efd7271",
   "metadata": {},
   "outputs": [
    {
     "name": "stdout",
     "output_type": "stream",
     "text": [
      "Mean of each column after normalization: [-4.68514116e-16 -3.39728246e-16  4.55191440e-17  1.64313008e-16\n",
      " -1.11022302e-17]\n",
      "Standard deviation of each column after normalization: [1. 1. 1. 1. 1.]\n"
     ]
    }
   ],
   "source": [
    "normalized = (data - mean_vector) / std_vector\n",
    "#To verify\n",
    "normalized_mean = np.mean(normalized, axis=0)\n",
    "normalized_std = np.std(normalized, axis=0)\n",
    "print(\"Mean of each column after normalization:\", normalized_mean)\n",
    "print(\"Standard deviation of each column after normalization:\", normalized_std)"
   ]
  },
  {
   "cell_type": "markdown",
   "id": "ac4255e0",
   "metadata": {},
   "source": [
    "## Q3\n"
   ]
  },
  {
   "cell_type": "raw",
   "id": "4dfec2d4",
   "metadata": {},
   "source": [
    "a.) A Vandermonde matrix is a matrix generated from a vector in which each column\n",
    "of the matrix is an integer power starting from zero. So, if I have a column vector\n",
    "[x1, x2, . . . , xN]\n",
    "T\n",
    ", then the associated (square) Vandermonde matrix would be\n",
    "\n",
    "Use what you learned about broadcasting in the previous problem to write a\n",
    "function that will produce a Vandermonde matrix for a vector [1, 2, . . . ,N]T\n",
    "for\n",
    "\n",
    "any N. Do it without using a loop. Here’s a stub to get you started:"
   ]
  },
  {
   "cell_type": "code",
   "execution_count": 18,
   "id": "52d8c69f",
   "metadata": {},
   "outputs": [
    {
     "name": "stdout",
     "output_type": "stream",
     "text": [
      "[[          1           1           1           1           1           1\n",
      "            1           1           1           1           1           1]\n",
      " [          1           2           4           8          16          32\n",
      "           64         128         256         512        1024        2048]\n",
      " [          1           3           9          27          81         243\n",
      "          729        2187        6561       19683       59049      177147]\n",
      " [          1           4          16          64         256        1024\n",
      "         4096       16384       65536      262144     1048576     4194304]\n",
      " [          1           5          25         125         625        3125\n",
      "        15625       78125      390625     1953125     9765625    48828125]\n",
      " [          1           6          36         216        1296        7776\n",
      "        46656      279936     1679616    10077696    60466176   362797056]\n",
      " [          1           7          49         343        2401       16807\n",
      "       117649      823543     5764801    40353607   282475249  1977326743]\n",
      " [          1           8          64         512        4096       32768\n",
      "       262144     2097152    16777216   134217728  1073741824           0]\n",
      " [          1           9          81         729        6561       59049\n",
      "       531441     4782969    43046721   387420489  -808182895  1316288537]\n",
      " [          1          10         100        1000       10000      100000\n",
      "      1000000    10000000   100000000  1000000000  1410065408  1215752192]\n",
      " [          1          11         121        1331       14641      161051\n",
      "      1771561    19487171   214358881 -1937019605   167620825  1843829075]\n",
      " [          1          12         144        1728       20736      248832\n",
      "      2985984    35831808   429981696   864813056  1787822080   -20971520]]\n"
     ]
    }
   ],
   "source": [
    "import numpy as np\n",
    "\n",
    "def vandermonde_matrix(N):\n",
    "    \n",
    "    x = np.arange(1, N+1)\n",
    "    \n",
    "    \n",
    "    vander_matrix = x[:, None] ** np.arange(N)\n",
    "    \n",
    "    return vander_matrix\n",
    "\n",
    "\n",
    "N = 12\n",
    "print(vandermonde_matrix(N))\n"
   ]
  },
  {
   "cell_type": "raw",
   "id": "70437d30",
   "metadata": {},
   "source": [
    "b.)Now, let’s make a pretend linear system problem with this matrix. Create a vector\n",
    "of all ones, of length 12 and call it x. Perform a matrix-vector multiplication of\n",
    "vander with the vector you just created and store that in a new vector and call it b.\n",
    "Print the vector b.\n",
    "\n",
    "   "
   ]
  },
  {
   "cell_type": "code",
   "execution_count": 19,
   "id": "fd79f559",
   "metadata": {},
   "outputs": [
    {
     "name": "stdout",
     "output_type": "stream",
     "text": [
      "The vector b is:\n",
      "[1.20000000e+01 4.09500000e+03 2.65720000e+05 5.59240500e+06\n",
      " 6.10351560e+07 4.35356467e+08 2.30688120e+09 1.22713351e+09\n",
      " 9.43953692e+08 3.73692871e+09 3.10225064e+08 3.10073456e+09]\n"
     ]
    }
   ],
   "source": [
    "vander = vandermonde_matrix(N)\n",
    "x = np.ones(N)\n",
    "\n",
    "# Perform matrix-vector multiplication\n",
    "b = np.dot(vander, x)\n",
    "\n",
    "# Print the result\n",
    "print(\"The vector b is:\")\n",
    "print(b)"
   ]
  },
  {
   "cell_type": "raw",
   "id": "68302cfd",
   "metadata": {},
   "source": [
    "c) First, solve the linear system the naïve way, pretending like you don’t know x.\n",
    "Import numpy.linalg, invert V and multiply it by b. Print out your result. What\n",
    "should you get for your answer? If the answer is different than what you\n",
    "expected, write a sentence about that difference."
   ]
  },
  {
   "cell_type": "code",
   "execution_count": 20,
   "id": "c0079d35",
   "metadata": {},
   "outputs": [
    {
     "name": "stdout",
     "output_type": "stream",
     "text": [
      "The solved vector x is:\n",
      "[0.99559784 1.00491714 0.99946976 1.00000954 1.         0.99999917\n",
      " 1.00000018 0.99999999 1.         1.         1.         1.        ]\n"
     ]
    }
   ],
   "source": [
    "from numpy.linalg import inv\n",
    "x_actual = np.ones(N)\n",
    "b = np.dot(vander, x_actual)\n",
    "vander_inv = inv(vander)\n",
    "\n",
    "x_solved = np.dot(vander_inv, b)\n",
    "\n",
    "print(\"The solved vector x is:\")\n",
    "print(x_solved)"
   ]
  },
  {
   "cell_type": "raw",
   "id": "bfceaeaa",
   "metadata": {},
   "source": [
    "d) Now, solve the same linear system using solve. Print out the result. Does it seem\n",
    "more or less in line with what you’d expect?\n"
   ]
  },
  {
   "cell_type": "code",
   "execution_count": 21,
   "id": "93659b92",
   "metadata": {},
   "outputs": [
    {
     "name": "stdout",
     "output_type": "stream",
     "text": [
      "The solved vector x using 'solve' is:\n",
      "[1.0000114  0.99997033 1.00002961 0.99998507 1.00000423 0.9999993\n",
      " 1.00000007 1.         1.         1.         1.         1.        ]\n"
     ]
    }
   ],
   "source": [
    "from numpy.linalg import solve\n",
    "x_solved = solve(vander, b)\n",
    "print(\"The solved vector x using 'solve' is:\")\n",
    "print(x_solved)"
   ]
  },
  {
   "cell_type": "code",
   "execution_count": 23,
   "id": "a06199a1",
   "metadata": {},
   "outputs": [],
   "source": [
    "# the link of github file\n"
   ]
  },
  {
   "cell_type": "code",
   "execution_count": null,
   "id": "ba1765ca",
   "metadata": {},
   "outputs": [],
   "source": []
  }
 ],
 "metadata": {
  "kernelspec": {
   "display_name": "Python 3 (ipykernel)",
   "language": "python",
   "name": "python3"
  },
  "language_info": {
   "codemirror_mode": {
    "name": "ipython",
    "version": 3
   },
   "file_extension": ".py",
   "mimetype": "text/x-python",
   "name": "python",
   "nbconvert_exporter": "python",
   "pygments_lexer": "ipython3",
   "version": "3.11.4"
  }
 },
 "nbformat": 4,
 "nbformat_minor": 5
}
